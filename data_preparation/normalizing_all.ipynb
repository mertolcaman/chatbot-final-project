{
 "cells": [
  {
   "cell_type": "code",
   "execution_count": 44,
   "id": "922a1324",
   "metadata": {},
   "outputs": [],
   "source": [
    "import os\n",
    "from openai import OpenAI\n",
    "from dotenv import load_dotenv\n",
    "import json\n",
    "import re\n",
    "import time\n",
    "import random\n",
    "import requests\n",
    "from langchain.tools import DuckDuckGoSearchRun\n",
    "search = DuckDuckGoSearchRun()\n",
    "\n",
    "import googlemaps\n",
    "from deep_translator import GoogleTranslator\n",
    "\n",
    "load_dotenv()\n",
    "api_key_google = os.getenv(\"GOOGLE_MAPS\")\n",
    "client = OpenAI(api_key=os.getenv(\"OPENAI_API_KEY\"))"
   ]
  },
  {
   "cell_type": "code",
   "execution_count": 21,
   "id": "1f1159f4",
   "metadata": {},
   "outputs": [
    {
     "name": "stdout",
     "output_type": "stream",
     "text": [
      "['refined_all_data/all_museums_normalized.json', 'refined_all_data/dikili_bays.json', 'refined_all_data/izmir_beaches.json', 'refined_all_data/izmir_beaches_summary.json', 'refined_all_data/izmir_foods.json', 'refined_all_data/museum_fees_cleaned.json']\n"
     ]
    }
   ],
   "source": [
    "#finding all json files\n",
    "folder_path = \"refined_all_data\"\n",
    "file_names = os.listdir(folder_path)\n",
    "\n",
    "file_names = [\n",
    "    folder_path + \"/\" + f\n",
    "    for f in file_names\n",
    "    if os.path.isfile(folder_path + \"/\" + f) and f.endswith(\".json\")\n",
    "]\n",
    "print(file_names)"
   ]
  },
  {
   "cell_type": "code",
   "execution_count": 22,
   "id": "7a573cae",
   "metadata": {},
   "outputs": [
    {
     "data": {
      "text/plain": [
       "['refined_all_data/all_museums_normalized.json',\n",
       " 'refined_all_data/dikili_bays.json',\n",
       " 'refined_all_data/izmir_beaches.json',\n",
       " 'refined_all_data/izmir_beaches_summary.json',\n",
       " 'refined_all_data/izmir_foods.json',\n",
       " 'refined_all_data/museum_fees_cleaned.json']"
      ]
     },
     "execution_count": 22,
     "metadata": {},
     "output_type": "execute_result"
    }
   ],
   "source": [
    "file_names"
   ]
  },
  {
   "cell_type": "code",
   "execution_count": 23,
   "id": "37fff2d1",
   "metadata": {},
   "outputs": [],
   "source": [
    "#String Response to JSON file conversion\n",
    "def stringjson2json(output_text: str):\n",
    "    \"\"\"\n",
    "    Extracts and parses a JSON array from an OpenAI LLM string output,\n",
    "    which may contain markdown formatting, extra text, or surrounding commentary.\n",
    "\n",
    "    Returns:\n",
    "        - A parsed Python list/dictionary if successful\n",
    "        - None if parsing fails\n",
    "    \"\"\"\n",
    "    try:\n",
    "        # Try to find the first code block starting with ```json\n",
    "        if \"```json\" in output_text:\n",
    "            start = output_text.find(\"```json\") + len(\"```json\")\n",
    "            end = output_text.find(\"```\", start)\n",
    "            json_str = output_text[start:end].strip()\n",
    "        elif \"```\" in output_text:  # Fallback to any code block\n",
    "            start = output_text.find(\"```\") + len(\"```\")\n",
    "            end = output_text.find(\"```\", start)\n",
    "            json_str = output_text[start:end].strip()\n",
    "        else:\n",
    "            json_str = output_text.strip()\n",
    "\n",
    "        # Parse the JSON string\n",
    "        parsed = json.loads(json_str)\n",
    "\n",
    "        return parsed\n",
    "\n",
    "    except Exception as e:\n",
    "        print(\"JSON Parse Error:\", e)\n",
    "        return None"
   ]
  },
  {
   "cell_type": "code",
   "execution_count": 24,
   "id": "d9c42876",
   "metadata": {},
   "outputs": [],
   "source": [
    "#get json file and convert string into json\n",
    "def file2json(filepath):\n",
    "    with open(filepath, \"r\", encoding=\"utf-8\") as f:\n",
    "        raw_text = f.read()\n",
    "        return stringjson2json(raw_text)"
   ]
  },
  {
   "cell_type": "code",
   "execution_count": 308,
   "id": "98089455",
   "metadata": {},
   "outputs": [],
   "source": [
    "museums        = file2json(file_names[0])\n",
    "museum_tickets = file2json(file_names[5])"
   ]
  },
  {
   "cell_type": "code",
   "execution_count": 26,
   "id": "753958bc",
   "metadata": {},
   "outputs": [],
   "source": [
    "dikili         = file2json(file_names[1])\n",
    "beaches1       = file2json(file_names[2])\n",
    "beaches2       = file2json(file_names[3])\n",
    "foods          = file2json(file_names[4])"
   ]
  },
  {
   "cell_type": "code",
   "execution_count": 27,
   "id": "37f9b3d8",
   "metadata": {},
   "outputs": [],
   "source": [
    "def modelRequest(prompt,temperature=0.5):\n",
    "\n",
    "        response = client.chat.completions.create(\n",
    "            model=\"gpt-4o-mini\",\n",
    "            messages=[{\"role\": \"user\", \"content\": prompt}],\n",
    "            temperature=temperature\n",
    "        )\n",
    "        return response.choices[0].message.content"
   ]
  },
  {
   "cell_type": "markdown",
   "id": "6996c0c5",
   "metadata": {},
   "source": [
    "## Adding Museum Fees into Museums"
   ]
  },
  {
   "cell_type": "code",
   "execution_count": 309,
   "id": "4f232831",
   "metadata": {},
   "outputs": [],
   "source": [
    "def get_ticket_translation_prompt(tickets: list) -> str:\n",
    "    return f\"\"\"\n",
    "You are a professional translator and data formatter.\n",
    "\n",
    "You are given a list of Turkish museum ticket price entries. Each dictionary has the fields:\n",
    "- `city` (e.g., \"izmir\")\n",
    "- `museum` (e.g., \"izmir bergama akropol orenyeri\")\n",
    "- `local_tourist` (e.g., \"muzekart ile girilebilir.\", \"ücretsiz\", etc.)\n",
    "- `foreigner` (e.g., \"€ 15\", \"ücretsiz\", etc.)\n",
    "- `status` (e.g., \"kapali\", or a description about combined tickets)\n",
    "\n",
    "Your task:\n",
    "1. Translate all Turkish fields into **English**.\n",
    "2. Use accurate terms:\n",
    "   - \"muzekart ile girilebilir.\" → \"Accessible with Müzekart\"\n",
    "   - \"ücretsiz\" → \"Free\"\n",
    "   - \"kapali\" → \"Closed\"\n",
    "3. Keep the data structure the same.\n",
    "4. Preserve the euro sign (e.g., \"€ 15\" → \"€15\").\n",
    "5. For empty or null fields, leave them as `null`.\n",
    "Here is the data to translate:\n",
    "```json\n",
    "{tickets}\n",
    "Return the translated list as valid JSON in English.\n",
    "\"\"\"\n"
   ]
  },
  {
   "cell_type": "code",
   "execution_count": 310,
   "id": "2a1860f6",
   "metadata": {},
   "outputs": [],
   "source": [
    "translation_prompt = get_ticket_translation_prompt(museum_tickets)\n",
    "model_response = modelRequest(translation_prompt,temperature=0.3)\n",
    "museum_ticket_translated = stringjson2json(model_response)"
   ]
  },
  {
   "cell_type": "code",
   "execution_count": 311,
   "id": "7864453f",
   "metadata": {},
   "outputs": [],
   "source": [
    "def get_museum_matching_prompt(museum_names: list, museum_ticket_names: list) -> str:\n",
    "    return f\"\"\"\n",
    "You are an expert in cultural heritage data integration.\n",
    "\n",
    "## Task:\n",
    "You are given two lists:\n",
    "- `museum_names`: English museum names\n",
    "- `museum_ticket_name`: Turkish museum names\n",
    "\n",
    "Your goal is to match each Turkish museum name to its most likely English equivalent from the `museum_names` list.\n",
    "\n",
    "## Rules:\n",
    "- Only return matches if you are confident.\n",
    "- If no confident match is found, write `\"NO_MATCH\"` for that Turkish name.\n",
    "- Return the result as a list of dictionaries like this:\n",
    "  ```json\n",
    "  [\n",
    "    {{ \"turkish\": , \"english\":  }},\n",
    "    {{ \"turkish\": , \"english\":  }},\n",
    "    {{ \"turkish\": , \"english\":  }}\n",
    "  ]\n",
    "Data:\n",
    "museum_names = {museum_names}\n",
    "\n",
    "museum_ticket_name = {museum_ticket_names}\n",
    "\n",
    "Please return the matched list in JSON format.\n",
    "\"\"\"\n"
   ]
  },
  {
   "cell_type": "code",
   "execution_count": 312,
   "id": "ec2f53e4",
   "metadata": {},
   "outputs": [],
   "source": [
    "museum_names = [i[\"name\"] for i in museums]\n",
    "museum_ticket_name = [i[\"museum\"] for i in museum_ticket_translated]\n",
    "\n",
    "\n",
    "museum_prompt = get_museum_matching_prompt(museum_names,museum_ticket_name)\n",
    "model_response = modelRequest(museum_prompt,temperature=0.3)\n",
    "museums_match_response = stringjson2json(model_response)"
   ]
  },
  {
   "cell_type": "code",
   "execution_count": 313,
   "id": "094ccb93",
   "metadata": {},
   "outputs": [],
   "source": [
    "def normalize(text):\n",
    "    return text.strip().lower().replace(\"ı\", \"i\").replace(\"\\xa0\", \" \").replace(\"–\", \"-\").replace(\"’\", \"'\").replace(\"  \", \" \")"
   ]
  },
  {
   "cell_type": "code",
   "execution_count": 314,
   "id": "72cf7228",
   "metadata": {},
   "outputs": [],
   "source": [
    "#adding museum prices into museums\n",
    "for museum in museums:\n",
    "    museum[\"local_price\"] = None\n",
    "    museum[\"foreigner_price\"] = None\n",
    "    museum[\"node_type\"] = 'Museum'\n",
    "\n",
    "    for translation in museums_match_response:\n",
    "        if normalize(translation[\"english\"]) == normalize(museum[\"name\"]):\n",
    "            turkish_name = translation[\"turkish\"]\n",
    "\n",
    "            for turkish_museum_info in museum_ticket_translated:\n",
    "                if normalize(turkish_museum_info[\"museum\"]) == normalize(turkish_name):\n",
    "                    museum[\"local_price\"] = turkish_museum_info.get(\"local_tourist\")\n",
    "                    museum[\"foreigner_price\"] = turkish_museum_info.get(\"foreigner\")"
   ]
  },
  {
   "cell_type": "code",
   "execution_count": 315,
   "id": "33264a76",
   "metadata": {},
   "outputs": [
    {
     "data": {
      "text/plain": [
       "{'file': 'museum_10.html',\n",
       " 'name': 'Izmir Birgi Cakiraga Mansion',\n",
       " 'rating': '4.2',\n",
       " 'description': 'Masterpiece of Ottoman Civil Architecture\\n\\nBirgi is a peaceful, green and pretty neighborhood stretching along both banks of a stream on the southern slopes of Mt Tmolos (Bozdaglar). The Cakiraga Mansion in Birgi was commissioned by Cakiroglu Serif Ali Agha, a merchant from Birgi, in the late eighteenth century. The three-story mansion is renowned with its panoramas depicting Istanbul and Izmir. It is an unparalleled example of Ottoman civil architecture in the Aegean region. Authentic wall painting and woodwork on the exterior and interior walls of Cakiraga Mansion in Birgi enchant its visitors.\\n\\n',\n",
       " 'museum_id': '2083',\n",
       " 'address': 'Birgi Mahallesi Sht. Gurol Madan Caddesi Odemis/IZMIR',\n",
       " 'email': 'odemismuzesi@ktb.gov.tr',\n",
       " 'phone': '+90 (232) 531-5205',\n",
       " 'opening_hours': {'summer': '08:30-19:00(Monday : Close)',\n",
       "  'winter': '08:30-17:30(Monday : Close)',\n",
       "  'box_office_closing': 'N/A'},\n",
       " 'facilities': ['Restroom', 'Cafe'],\n",
       " 'images': ['https://www.turkishmuseums.com/Uploads/Muze/Foto/Fotograflar/d331edcc-e613-46e9-bf5d-0d4394dff96d.jpg',\n",
       "  'https://www.turkishmuseums.com/Uploads/Muze/Foto/Fotograflar/e4d64d10-3154-4cc9-92ea-ce37c2c60fb6.jpg',\n",
       "  'https://www.turkishmuseums.com/Uploads/Muze/Foto/Fotograflar/065e3578-87aa-4592-ab58-064924be08d3.jpg',\n",
       "  'https://www.turkishmuseums.com/Uploads/Muze/Foto/Fotograflar/9ce03f16-88a3-4945-833c-f558f613dd4c.jpg',\n",
       "  'https://www.turkishmuseums.com/Uploads/Muze/Foto/Fotograflar/19223f25-a380-4aff-9fdf-8c8825303baa.jpg',\n",
       "  'https://www.turkishmuseums.com/Uploads/Muze/Foto/Fotograflar/7280f11f-4ff8-4026-b36e-9bf93fdec6be.jpg',\n",
       "  'https://www.turkishmuseums.com/Uploads/Muze/Foto/Fotograflar/1baabbb1-22ba-4399-80d5-f594be166805.jpg'],\n",
       " 'coordinates': '38.256113,28.065649',\n",
       " 'local_price': 'Accessible with Müzekart',\n",
       " 'foreigner_price': '€3',\n",
       " 'node_type': 'Museum'}"
      ]
     },
     "execution_count": 315,
     "metadata": {},
     "output_type": "execute_result"
    }
   ],
   "source": [
    "museums[1]"
   ]
  },
  {
   "cell_type": "markdown",
   "id": "5544e5dd",
   "metadata": {},
   "source": [
    "### Feature Extraction for Museums"
   ]
  },
  {
   "cell_type": "code",
   "execution_count": 316,
   "id": "a191e412",
   "metadata": {},
   "outputs": [],
   "source": [
    "import json\n",
    "\n",
    "def extract_museum_features_prompt(museum_data):\n",
    "    return f\"\"\"\n",
    "You are an expert travel assistant AI.\n",
    "\n",
    "Your task is to extract **semantic features** from a list of museums. For each museum, return the following fields:\n",
    "- `what_to_do`: Activities a visitor can do there (e.g., \"learn history\", \"explore exhibitions\")\n",
    "- `best_for`: The type of visitors who would most enjoy it (e.g., \"families\", \"art lovers\", \"students\")\n",
    "- `special_features`: Notable or unique characteristics (e.g., \"interactive exhibits\", \"rare artifacts\", \"modern design\")\n",
    "- `tags`: General topic or style tags (e.g., \"art\", \"history\", \"science\", \"architecture\")\n",
    "\n",
    "Instructions:\n",
    "- Use fields such as `description`, `facilities`, and `name` to guide your answers.\n",
    "- For each museum, return:\n",
    "  - `mention` (same as in the original data)\n",
    "  - `what_to_do`\n",
    "  - `best_for`\n",
    "  - `special_features`\n",
    "  - `tags`\n",
    "- All values must be lowercase and formatted as lists of strings.\n",
    "- Do not remove or skip any museum.\n",
    "- Do not include markdown or code formatting (no triple backticks, no Python labels).\n",
    "- Just return a **raw Python list of dictionaries** with those five fields.\n",
    "\n",
    "Here is the input data:\n",
    "\n",
    "{json.dumps(museum_data, indent=2)}\n",
    "\"\"\"\n"
   ]
  },
  {
   "cell_type": "code",
   "execution_count": 321,
   "id": "b0d11eca",
   "metadata": {},
   "outputs": [],
   "source": [
    "prompt = extract_museum_features_prompt(museums)\n",
    "response = modelRequest(prompt, temperature=0.2)\n",
    "museum_features = stringjson2json(response)"
   ]
  },
  {
   "cell_type": "code",
   "execution_count": 322,
   "id": "28c160ff",
   "metadata": {},
   "outputs": [],
   "source": [
    "#getting standardized museum features\n",
    "def standardize_museum_features_prompt(museum_features):\n",
    "    return f\"\"\"\n",
    "You are a data normalization assistant.\n",
    "\n",
    "Given a list of museum objects and their semantic fields (`what_to_do`, `best_for`, `special_features`, and `tags`), your task is to standardize the values inside each field.\n",
    "\n",
    "Instructions:\n",
    "1. Normalize phrasing across all fields (e.g., \"explore ancient ruins\", \"explore archaeological artifacts\" → \"explore ancient sites\").\n",
    "2. Use short, lowercase, meaningful phrases.\n",
    "3. Replace synonyms and unify inconsistent forms.\n",
    "4. Keep the original structure: keep the same list of dictionaries and keep each museum’s `mention` unchanged.\n",
    "5. Only transform the **values inside** `what_to_do`, `best_for`, `special_features`, and `tags`.\n",
    "6. Do not remove or add fields. Do not include markdown or code blocks.\n",
    "\n",
    "Here is the input data:\n",
    "\n",
    "{json.dumps(museum_features, indent=2)}\n",
    "\n",
    "Return the modified list with standardized features.\n",
    "\"\"\"\n"
   ]
  },
  {
   "cell_type": "code",
   "execution_count": 323,
   "id": "abb5e279",
   "metadata": {},
   "outputs": [],
   "source": [
    "prompt = standardize_museum_features_prompt(museum_features)\n",
    "response = modelRequest(prompt, temperature=0.2)\n",
    "standardized_museums = stringjson2json(response)"
   ]
  },
  {
   "cell_type": "code",
   "execution_count": 347,
   "id": "3e0111c4",
   "metadata": {},
   "outputs": [],
   "source": [
    "#mapping dictionary\n",
    "museum_feature_map = {\n",
    "    museum[\"mention\"].lower().strip(): {\n",
    "        \"what_to_do\": museum[\"what_to_do\"],\n",
    "        \"best_for\": museum[\"best_for\"],\n",
    "        \"special_features\": museum[\"special_features\"],\n",
    "        \"tags\": museum[\"tags\"]\n",
    "    }\n",
    "    for museum in standardized_museums\n",
    "}\n"
   ]
  },
  {
   "cell_type": "code",
   "execution_count": 353,
   "id": "bd012df9",
   "metadata": {},
   "outputs": [
    {
     "data": {
      "text/plain": [
       "{'museum izmir culture and arts factory': {'what_to_do': ['learn history',\n",
       "   'explore exhibitions',\n",
       "   'participate in workshops',\n",
       "   'enjoy outdoor activities'],\n",
       "  'best_for': ['families', 'art lovers', 'students'],\n",
       "  'special_features': ['interactive exhibits',\n",
       "   'historical artifacts',\n",
       "   'cultural workshops'],\n",
       "  'tags': ['art', 'history', 'culture']},\n",
       " 'izmir birgi cakiraga mansion': {'what_to_do': ['explore architecture',\n",
       "   'admire wall paintings',\n",
       "   'learn about Ottoman architecture'],\n",
       "  'best_for': ['history enthusiasts', 'architecture lovers'],\n",
       "  'special_features': ['authentic wall painting', 'panoramic views'],\n",
       "  'tags': ['architecture', 'history']},\n",
       " 'izmir cesme museum': {'what_to_do': ['explore archaeological exhibits',\n",
       "   'learn about military history',\n",
       "   'view historical artifacts'],\n",
       "  'best_for': ['history enthusiasts', 'archaeology enthusiasts'],\n",
       "  'special_features': ['historical castle', 'thematic exhibitions'],\n",
       "  'tags': ['history', 'archaeology']},\n",
       " 'izmir naval museum': {'what_to_do': ['explore naval history',\n",
       "   'view museum ships',\n",
       "   'learn about maritime technology'],\n",
       "  'best_for': ['naval history enthusiasts', 'families'],\n",
       "  'special_features': ['museum ships', 'interactive displays'],\n",
       "  'tags': ['history', 'naval']},\n",
       " 'izmir ephesus experience museum': {'what_to_do': ['experience ancient history',\n",
       "   'explore interactive exhibits',\n",
       "   'learn about Ephesus'],\n",
       "  'best_for': ['history lovers', 'families', 'students'],\n",
       "  'special_features': ['immersive experiences', 'visual interactions'],\n",
       "  'tags': ['history', 'culture']},\n",
       " 'izmir ephesus museum': {'what_to_do': ['explore ancient artifacts',\n",
       "   'learn about Ephesus history',\n",
       "   'view sculptures'],\n",
       "  'best_for': ['history enthusiasts', 'archaeology enthusiasts'],\n",
       "  'special_features': ['exhibition of ancient artifacts',\n",
       "   'historical context displays'],\n",
       "  'tags': ['history', 'archaeology']},\n",
       " 'izmir ephesus': {'what_to_do': ['explore ancient ruins',\n",
       "   'learn about Ephesus history',\n",
       "   'view historical architecture'],\n",
       "  'best_for': ['history enthusiasts', 'archaeology enthusiasts'],\n",
       "  'special_features': ['ancient city ruins', 'historical significance'],\n",
       "  'tags': ['history', 'archaeology']},\n",
       " \"izmir woman's museum\": {'what_to_do': [\"learn about women's history\",\n",
       "   'explore exhibitions',\n",
       "   'view historical artifacts'],\n",
       "  'best_for': ['feminists', 'history enthusiasts'],\n",
       "  'special_features': [\"focus on women's contributions\",\n",
       "   'interactive exhibits'],\n",
       "  'tags': ['history', 'culture']},\n",
       " 'izmir klaros archaeological site': {'what_to_do': ['explore ancient ruins',\n",
       "   'learn about ancient prophecies',\n",
       "   'view archaeological finds'],\n",
       "  'best_for': ['archaeology enthusiasts', 'history lovers'],\n",
       "  'special_features': ['ancient sanctuary', 'historical significance'],\n",
       "  'tags': ['archaeology', 'history']},\n",
       " 'izmir klazomenai archaeological site': {'what_to_do': ['explore ancient ruins',\n",
       "   'learn about ancient history',\n",
       "   'view archaeological artifacts'],\n",
       "  'best_for': ['archaeology enthusiasts', 'history lovers'],\n",
       "  'special_features': ['ancient city ruins', 'historical significance'],\n",
       "  'tags': ['archaeology', 'history']},\n",
       " 'izmir usakizade latife hanim mansion': {'what_to_do': ['explore historical architecture',\n",
       "   'learn about local history'],\n",
       "  'best_for': ['history enthusiasts', 'architecture lovers'],\n",
       "  'special_features': ['historical significance'],\n",
       "  'tags': ['architecture', 'history']},\n",
       " 'izmir agora archaeological site': {'what_to_do': ['explore archaeological site',\n",
       "   'learn about ancient Smyrna',\n",
       "   'view historical ruins'],\n",
       "  'best_for': ['history enthusiasts', 'archaeology enthusiasts'],\n",
       "  'special_features': ['open air site', 'historical significance'],\n",
       "  'tags': ['archaeology', 'history']},\n",
       " 'izmir metropolis archaeological site': {'what_to_do': ['explore ancient ruins',\n",
       "   'learn about ancient history',\n",
       "   'view archaeological artifacts'],\n",
       "  'best_for': ['archaeology enthusiasts', 'history lovers'],\n",
       "  'special_features': ['ancient city ruins', 'historical significance'],\n",
       "  'tags': ['archaeology', 'history']},\n",
       " 'izmir odemis museum': {'what_to_do': ['explore local history',\n",
       "   'view historical artifacts'],\n",
       "  'best_for': ['history enthusiasts', 'families'],\n",
       "  'special_features': ['local cultural artifacts'],\n",
       "  'tags': ['history', 'culture']},\n",
       " 'izmir art and sculpture museum': {'what_to_do': ['explore art exhibitions',\n",
       "   'view sculptures',\n",
       "   'learn about local artists'],\n",
       "  'best_for': ['art lovers', 'students'],\n",
       "  'special_features': ['collection of local artists', 'art courses'],\n",
       "  'tags': ['art', 'culture']},\n",
       " 'izmir camlik selcuk railway museum': {'what_to_do': ['explore railway history',\n",
       "   'view historical locomotives',\n",
       "   'learn about transportation history'],\n",
       "  'best_for': ['transportation enthusiasts', 'families'],\n",
       "  'special_features': ['historical railway line', 'locomotive collections'],\n",
       "  'tags': ['history', 'transportation']},\n",
       " 'izmir st. jean monument': {'what_to_do': ['explore historical site',\n",
       "   'learn about St. Jean',\n",
       "   'view architectural ruins'],\n",
       "  'best_for': ['history enthusiasts', 'architecture lovers'],\n",
       "  'special_features': ['historical significance', 'architectural ruins'],\n",
       "  'tags': ['history', 'architecture']},\n",
       " 'izmir teos archaeological site': {'what_to_do': ['explore ancient ruins',\n",
       "   'learn about ancient history',\n",
       "   'view archaeological artifacts'],\n",
       "  'best_for': ['archaeology enthusiasts', 'history lovers'],\n",
       "  'special_features': ['ancient city ruins', 'historical significance'],\n",
       "  'tags': ['archaeology', 'history']},\n",
       " 'izmir tire municipality city museum': {'what_to_do': ['explore local history',\n",
       "   'view historical artifacts'],\n",
       "  'best_for': ['history enthusiasts', 'families'],\n",
       "  'special_features': ['local cultural artifacts'],\n",
       "  'tags': ['history', 'culture']},\n",
       " 'izmir tire museum': {'what_to_do': ['explore archaeological exhibits',\n",
       "   'learn about local history'],\n",
       "  'best_for': ['history enthusiasts', 'archaeology enthusiasts'],\n",
       "  'special_features': ['archaeological artifacts', 'ethnographic collections'],\n",
       "  'tags': ['archaeology', 'history']},\n",
       " 'ahmet piristina izmir city archive and museum': {'what_to_do': ['explore city archives',\n",
       "   'learn about local history'],\n",
       "  'best_for': ['history enthusiasts', 'researchers'],\n",
       "  'special_features': ['city archives', 'historical documents'],\n",
       "  'tags': ['history', 'culture']},\n",
       " 'izmir archaeology museum': {'what_to_do': ['explore archaeological exhibits',\n",
       "   'learn about ancient history',\n",
       "   'view historical artifacts'],\n",
       "  'best_for': ['archaeology enthusiasts', 'history lovers'],\n",
       "  'special_features': ['extensive artifact collection',\n",
       "   'historical significance'],\n",
       "  'tags': ['archaeology', 'history']},\n",
       " 'izmir ataturk museum': {'what_to_do': [\"explore Ataturk's history\",\n",
       "   'learn about Turkish history',\n",
       "   'view historical artifacts'],\n",
       "  'best_for': ['history enthusiasts', 'students'],\n",
       "  'special_features': ['historical significance',\n",
       "   'personal artifacts of Ataturk'],\n",
       "  'tags': ['history', 'culture']},\n",
       " 'izmir bergama pergamon acropolis': {'what_to_do': ['explore ancient ruins',\n",
       "   'learn about ancient history',\n",
       "   'view archaeological artifacts'],\n",
       "  'best_for': ['archaeology enthusiasts', 'history lovers'],\n",
       "  'special_features': ['ancient city ruins', 'historical significance'],\n",
       "  'tags': ['archaeology', 'history']},\n",
       " 'izmir bergama the archaeological site of asklepion': {'what_to_do': ['explore ancient ruins',\n",
       "   'learn about ancient medicine',\n",
       "   'view archaeological artifacts'],\n",
       "  'best_for': ['archaeology enthusiasts', 'history lovers'],\n",
       "  'special_features': ['ancient healing center', 'historical significance'],\n",
       "  'tags': ['archaeology', 'history']},\n",
       " 'izmir bergama red basilica': {'what_to_do': ['explore ancient ruins',\n",
       "   'learn about ancient history',\n",
       "   'view architectural artifacts'],\n",
       "  'best_for': ['history enthusiasts', 'architecture lovers'],\n",
       "  'special_features': ['ancient temple ruins', 'historical significance'],\n",
       "  'tags': ['history', 'architecture']},\n",
       " 'izmir bergama museum': {'what_to_do': ['explore archaeological exhibits',\n",
       "   'learn about local history',\n",
       "   'view historical artifacts'],\n",
       "  'best_for': ['archaeology enthusiasts', 'history lovers'],\n",
       "  'special_features': ['extensive artifact collection',\n",
       "   'historical significance'],\n",
       "  'tags': ['archaeology', 'history']}}"
      ]
     },
     "execution_count": 353,
     "metadata": {},
     "output_type": "execute_result"
    }
   ],
   "source": [
    "museum_feature_map"
   ]
  },
  {
   "cell_type": "code",
   "execution_count": 355,
   "id": "c3859efe",
   "metadata": {},
   "outputs": [],
   "source": [
    "def normalize_name(name: str) -> str:\n",
    "    return re.sub(r\"\\s+\", \" \", name.strip().lower())"
   ]
  },
  {
   "cell_type": "code",
   "execution_count": 359,
   "id": "30579c5d",
   "metadata": {},
   "outputs": [],
   "source": [
    "# Normalize all keys in the feature map\n",
    "museum_feature_map = {\n",
    "    normalize_name(name): features\n",
    "    for name, features in museum_feature_map.items()\n",
    "}\n",
    "\n",
    "#Adding new features for museums\n",
    "for museum in museums:\n",
    "    key = normalize_name(museum[\"name\"])\n",
    "    features = museum_feature_map.get(key)\n",
    "    if features:\n",
    "        museum.update(features)\n",
    "    else:\n",
    "        print(f\"No match for: {museum['name']}\")\n"
   ]
  },
  {
   "cell_type": "code",
   "execution_count": 361,
   "id": "10bf3723",
   "metadata": {},
   "outputs": [
    {
     "data": {
      "text/plain": [
       "{'file': 'museum_10.html',\n",
       " 'name': 'Izmir Birgi Cakiraga Mansion',\n",
       " 'rating': '4.2',\n",
       " 'description': 'Masterpiece of Ottoman Civil Architecture\\n\\nBirgi is a peaceful, green and pretty neighborhood stretching along both banks of a stream on the southern slopes of Mt Tmolos (Bozdaglar). The Cakiraga Mansion in Birgi was commissioned by Cakiroglu Serif Ali Agha, a merchant from Birgi, in the late eighteenth century. The three-story mansion is renowned with its panoramas depicting Istanbul and Izmir. It is an unparalleled example of Ottoman civil architecture in the Aegean region. Authentic wall painting and woodwork on the exterior and interior walls of Cakiraga Mansion in Birgi enchant its visitors.\\n\\n',\n",
       " 'museum_id': '2083',\n",
       " 'address': 'Birgi Mahallesi Sht. Gurol Madan Caddesi Odemis/IZMIR',\n",
       " 'email': 'odemismuzesi@ktb.gov.tr',\n",
       " 'phone': '+90 (232) 531-5205',\n",
       " 'opening_hours': {'summer': '08:30-19:00(Monday : Close)',\n",
       "  'winter': '08:30-17:30(Monday : Close)',\n",
       "  'box_office_closing': 'N/A'},\n",
       " 'facilities': ['Restroom', 'Cafe'],\n",
       " 'images': ['https://www.turkishmuseums.com/Uploads/Muze/Foto/Fotograflar/d331edcc-e613-46e9-bf5d-0d4394dff96d.jpg',\n",
       "  'https://www.turkishmuseums.com/Uploads/Muze/Foto/Fotograflar/e4d64d10-3154-4cc9-92ea-ce37c2c60fb6.jpg',\n",
       "  'https://www.turkishmuseums.com/Uploads/Muze/Foto/Fotograflar/065e3578-87aa-4592-ab58-064924be08d3.jpg',\n",
       "  'https://www.turkishmuseums.com/Uploads/Muze/Foto/Fotograflar/9ce03f16-88a3-4945-833c-f558f613dd4c.jpg',\n",
       "  'https://www.turkishmuseums.com/Uploads/Muze/Foto/Fotograflar/19223f25-a380-4aff-9fdf-8c8825303baa.jpg',\n",
       "  'https://www.turkishmuseums.com/Uploads/Muze/Foto/Fotograflar/7280f11f-4ff8-4026-b36e-9bf93fdec6be.jpg',\n",
       "  'https://www.turkishmuseums.com/Uploads/Muze/Foto/Fotograflar/1baabbb1-22ba-4399-80d5-f594be166805.jpg'],\n",
       " 'coordinates': '38.256113,28.065649',\n",
       " 'local_price': 'Accessible with Müzekart',\n",
       " 'foreigner_price': '€3',\n",
       " 'node_type': 'Museum',\n",
       " 'what_to_do': ['explore architecture',\n",
       "  'admire wall paintings',\n",
       "  'learn about Ottoman architecture'],\n",
       " 'best_for': ['history enthusiasts', 'architecture lovers'],\n",
       " 'special_features': ['authentic wall painting', 'panoramic views'],\n",
       " 'tags': ['architecture', 'history']}"
      ]
     },
     "execution_count": 361,
     "metadata": {},
     "output_type": "execute_result"
    }
   ],
   "source": [
    "museums[1]"
   ]
  },
  {
   "cell_type": "markdown",
   "id": "028d938f",
   "metadata": {},
   "source": [
    "## Adding Geo Information"
   ]
  },
  {
   "cell_type": "code",
   "execution_count": 362,
   "id": "ebf7fe8b",
   "metadata": {},
   "outputs": [],
   "source": [
    "def google_maps(place_name,api_key=api_key_google):\n",
    "\n",
    "    place_name = GoogleTranslator(source='auto', target='tr').translate(place_name)\n",
    "\n",
    "    gmaps = googlemaps.Client(key=api_key)\n",
    "\n",
    "    # Define your query\n",
    "    place_name = f\"{place_name}, Izmir\"\n",
    "#     print(place_name)\n",
    "    # Send geocoding request\n",
    "    geocode_result = gmaps.geocode(place_name)\n",
    "\n",
    "    return geocode_result"
   ]
  },
  {
   "cell_type": "code",
   "execution_count": 363,
   "id": "4b4499ca",
   "metadata": {},
   "outputs": [],
   "source": [
    "def reverse_geocode(geo_string, api_key=api_key_google):\n",
    "    geo = geo_string.split(\",\")\n",
    "    lat = geo[0]\n",
    "    lng = geo[1]\n",
    "    gmaps = googlemaps.Client(key=api_key)\n",
    "    \n",
    "    # Reverse geocoding\n",
    "    result = gmaps.reverse_geocode((lat, lng))\n",
    "    \n",
    "    if result:\n",
    "        return result[0]\n",
    "    else:\n",
    "        return \"No address found\""
   ]
  },
  {
   "cell_type": "code",
   "execution_count": 364,
   "id": "d68dc416",
   "metadata": {},
   "outputs": [],
   "source": [
    "def parse_google_address(geocode_result):\n",
    "    if not geocode_result:\n",
    "        return {}\n",
    "\n",
    "    result = geocode_result[0]\n",
    "    address_components = result.get(\"address_components\", [])\n",
    "    location_info = {\n",
    "        \"latitude\": result[\"geometry\"][\"location\"][\"lat\"],\n",
    "        \"longitude\": result[\"geometry\"][\"location\"][\"lng\"],\n",
    "        \"district\": None,\n",
    "        \"city\": None,\n",
    "        \"province\": None,\n",
    "        \"country\": None\n",
    "    }\n",
    "\n",
    "    for component in address_components:\n",
    "        types = component.get(\"types\", [])\n",
    "        if \"administrative_area_level_2\" in types:  # District (e.g., Konak)\n",
    "            location_info[\"district\"] = component[\"long_name\"]\n",
    "        elif \"administrative_area_level_1\" in types:  # Province (e.g., İzmir)\n",
    "            location_info[\"province\"] = component[\"long_name\"]\n",
    "        elif \"country\" in types:\n",
    "            location_info[\"country\"] = component[\"long_name\"]\n",
    "        elif \"locality\" in types or \"administrative_area_level_3\" in types:\n",
    "            location_info[\"city\"] = component[\"long_name\"]\n",
    "\n",
    "    return location_info\n"
   ]
  },
  {
   "cell_type": "code",
   "execution_count": 365,
   "id": "9242f2bd",
   "metadata": {},
   "outputs": [],
   "source": [
    "def get_most_specific_area(place_name: str, place_info: dict) -> str:\n",
    "    \"\"\"\n",
    "    Return the most specific known location: district > city > province.\n",
    "    \"\"\"\n",
    "    if place_name!=place_info[\"district\"]: name= place_info[\"district\"] \n",
    "    elif place_name!=place_info[\"province\"]: name= place_info[\"province\"]\n",
    "    \n",
    "    return name, [place_info[\"latitude\"], place_info[\"longitude\"]]"
   ]
  },
  {
   "cell_type": "code",
   "execution_count": 366,
   "id": "1d78ab67",
   "metadata": {},
   "outputs": [],
   "source": [
    "def get_address(place_name):\n",
    "    url = \"https://nominatim.openstreetmap.org/search\"\n",
    "    headers = {\n",
    "        'User-Agent': 'izmir-chatbot/1.0 (mertunknown45@gmail.com)'\n",
    "    }\n",
    "    params = {\n",
    "        'q': f\"{place_name}, izmir\",\n",
    "        'format': 'json',\n",
    "        'limit': 1,\n",
    "        'countrycodes': 'tr'\n",
    "    }\n",
    "    try:\n",
    "        response = requests.get(url, params=params, headers=headers, timeout=10)\n",
    "        if response.status_code == 200:\n",
    "            data = response.json()\n",
    "            return data[0][\"display_name\"]\n",
    "    except Exception as e:\n",
    "        print(f\"Error fetching coordinates for {place_name}: {e}\") \n",
    "            "
   ]
  },
  {
   "cell_type": "code",
   "execution_count": 367,
   "id": "ffdcaaed",
   "metadata": {},
   "outputs": [],
   "source": [
    "def get_town_name(data):\n",
    "    for i in data[\"address_components\"]:\n",
    "        if 'administrative_area_level_2' in i[\"types\"]:\n",
    "            return i[\"long_name\"]\n",
    "        elif 'administrative_area_level_1' in i[\"types\"]:\n",
    "            return i[\"long_name\"] "
   ]
  },
  {
   "cell_type": "markdown",
   "id": "78d0c184",
   "metadata": {},
   "source": [
    "### Museum locations:"
   ]
  },
  {
   "cell_type": "code",
   "execution_count": 368,
   "id": "49a72629",
   "metadata": {},
   "outputs": [],
   "source": [
    "for ent in museums:\n",
    "    address = reverse_geocode(ent[\"coordinates\"])\n",
    "    ent[\"located_in\"] = get_town_name(address)"
   ]
  },
  {
   "cell_type": "code",
   "execution_count": 369,
   "id": "f81d7361",
   "metadata": {},
   "outputs": [
    {
     "data": {
      "text/plain": [
       "{'file': 'museum_10.html',\n",
       " 'name': 'Izmir Birgi Cakiraga Mansion',\n",
       " 'rating': '4.2',\n",
       " 'description': 'Masterpiece of Ottoman Civil Architecture\\n\\nBirgi is a peaceful, green and pretty neighborhood stretching along both banks of a stream on the southern slopes of Mt Tmolos (Bozdaglar). The Cakiraga Mansion in Birgi was commissioned by Cakiroglu Serif Ali Agha, a merchant from Birgi, in the late eighteenth century. The three-story mansion is renowned with its panoramas depicting Istanbul and Izmir. It is an unparalleled example of Ottoman civil architecture in the Aegean region. Authentic wall painting and woodwork on the exterior and interior walls of Cakiraga Mansion in Birgi enchant its visitors.\\n\\n',\n",
       " 'museum_id': '2083',\n",
       " 'address': 'Birgi Mahallesi Sht. Gurol Madan Caddesi Odemis/IZMIR',\n",
       " 'email': 'odemismuzesi@ktb.gov.tr',\n",
       " 'phone': '+90 (232) 531-5205',\n",
       " 'opening_hours': {'summer': '08:30-19:00(Monday : Close)',\n",
       "  'winter': '08:30-17:30(Monday : Close)',\n",
       "  'box_office_closing': 'N/A'},\n",
       " 'facilities': ['Restroom', 'Cafe'],\n",
       " 'images': ['https://www.turkishmuseums.com/Uploads/Muze/Foto/Fotograflar/d331edcc-e613-46e9-bf5d-0d4394dff96d.jpg',\n",
       "  'https://www.turkishmuseums.com/Uploads/Muze/Foto/Fotograflar/e4d64d10-3154-4cc9-92ea-ce37c2c60fb6.jpg',\n",
       "  'https://www.turkishmuseums.com/Uploads/Muze/Foto/Fotograflar/065e3578-87aa-4592-ab58-064924be08d3.jpg',\n",
       "  'https://www.turkishmuseums.com/Uploads/Muze/Foto/Fotograflar/9ce03f16-88a3-4945-833c-f558f613dd4c.jpg',\n",
       "  'https://www.turkishmuseums.com/Uploads/Muze/Foto/Fotograflar/19223f25-a380-4aff-9fdf-8c8825303baa.jpg',\n",
       "  'https://www.turkishmuseums.com/Uploads/Muze/Foto/Fotograflar/7280f11f-4ff8-4026-b36e-9bf93fdec6be.jpg',\n",
       "  'https://www.turkishmuseums.com/Uploads/Muze/Foto/Fotograflar/1baabbb1-22ba-4399-80d5-f594be166805.jpg'],\n",
       " 'coordinates': '38.256113,28.065649',\n",
       " 'local_price': 'Accessible with Müzekart',\n",
       " 'foreigner_price': '€3',\n",
       " 'node_type': 'Museum',\n",
       " 'what_to_do': ['explore architecture',\n",
       "  'admire wall paintings',\n",
       "  'learn about Ottoman architecture'],\n",
       " 'best_for': ['history enthusiasts', 'architecture lovers'],\n",
       " 'special_features': ['authentic wall painting', 'panoramic views'],\n",
       " 'tags': ['architecture', 'history'],\n",
       " 'located_in': 'Ödemiş'}"
      ]
     },
     "execution_count": 369,
     "metadata": {},
     "output_type": "execute_result"
    }
   ],
   "source": [
    "museums[1]"
   ]
  },
  {
   "cell_type": "markdown",
   "id": "2fd7b19d",
   "metadata": {},
   "source": [
    "### Other locations:"
   ]
  },
  {
   "cell_type": "code",
   "execution_count": 140,
   "id": "d51f6368",
   "metadata": {},
   "outputs": [],
   "source": [
    "centre_coordinates = [38.423734, 27.142826]"
   ]
  },
  {
   "cell_type": "code",
   "execution_count": 127,
   "id": "5b14639d",
   "metadata": {},
   "outputs": [],
   "source": [
    "for ent in dikili:\n",
    "    place_name = ent[\"mention\"]+\",\"+ ent[\"located_in\"][0]\n",
    "    info = parse_google_address(google_maps(place_name))\n",
    "    district,geo_location=get_most_specific_area(place_name,info)\n",
    "    ent[\"coordinates\"] = geo_location"
   ]
  },
  {
   "cell_type": "code",
   "execution_count": 132,
   "id": "1cb5b2fe",
   "metadata": {},
   "outputs": [],
   "source": [
    "def get_coordinates(places_list):\n",
    "    for ent in places_list:\n",
    "        place_name = ent[\"mention\"]+\",\"+ ent[\"located_in\"][0]\n",
    "        info = parse_google_address(google_maps(place_name))\n",
    "        district,geo_location=get_most_specific_area(place_name,info)\n",
    "        ent[\"coordinates\"] = geo_location\n",
    "    return places_list"
   ]
  },
  {
   "cell_type": "code",
   "execution_count": 135,
   "id": "5406c196",
   "metadata": {},
   "outputs": [],
   "source": [
    "beaches1= get_coordinates(beaches1)"
   ]
  },
  {
   "cell_type": "code",
   "execution_count": 136,
   "id": "7379eb74",
   "metadata": {},
   "outputs": [],
   "source": [
    "beaches2= get_coordinates(beaches2)"
   ]
  },
  {
   "cell_type": "code",
   "execution_count": 143,
   "id": "d5e06fd3",
   "metadata": {},
   "outputs": [],
   "source": [
    "for ent in foods:\n",
    "    place_name = ent[\"where_to_eat\"][0]\n",
    "    if place_name == \"İzmir\":\n",
    "        ent[\"coordinates\"]= centre_coordinates\n",
    "    else: \n",
    "        place_name+=\",İzmir\"\n",
    "        info = parse_google_address(google_maps(place_name))\n",
    "        district,geo_location=get_most_specific_area(place_name,info)\n",
    "        ent[\"coordinates\"] = geo_location"
   ]
  },
  {
   "cell_type": "code",
   "execution_count": 154,
   "id": "1bb17e56",
   "metadata": {},
   "outputs": [],
   "source": [
    "#adding node type in foods\n",
    "for ent in foods:\n",
    "    ent[\"node_type\"]=\"Food\""
   ]
  },
  {
   "cell_type": "markdown",
   "id": "df7ba602",
   "metadata": {},
   "source": [
    "## Normalization of Turkish Characters"
   ]
  },
  {
   "cell_type": "code",
   "execution_count": 191,
   "id": "c09d85ea",
   "metadata": {},
   "outputs": [],
   "source": [
    "def normalize_name(name: str) -> str:\n",
    "    translation_table = str.maketrans(\"çğıöşüÇĞİÖŞÜ\", \"cgiosuCGIOSU\")\n",
    "    return name.translate(translation_table).lower().strip()\n",
    "\n",
    "def normalize_entities_in_place(entities):\n",
    "    removed_elements = [\"node_type\", \"coordinates\"]\n",
    "    normalized_keys = [key for key in entities[0].keys() if key not in removed_elements]\n",
    "\n",
    "    for ent in entities:\n",
    "        for key in normalized_keys:\n",
    "            value = ent[key]\n",
    "            if isinstance(value, str):\n",
    "                ent[key] = normalize_name(value)\n",
    "            elif isinstance(value, list):\n",
    "                ent[key] = [normalize_name(v) if isinstance(v, str) else v for v in value]\n",
    "\n",
    "    return entities\n"
   ]
  },
  {
   "cell_type": "code",
   "execution_count": 198,
   "id": "3ca22f12",
   "metadata": {},
   "outputs": [],
   "source": [
    "dikili   = normalize_entities_in_place(dikili)\n",
    "beaches1 = normalize_entities_in_place(beaches1)\n",
    "beaches2 = normalize_entities_in_place(beaches2)\n",
    "foods    = normalize_entities_in_place(foods)\n",
    "museums  = normalize_entities_in_place(museums)"
   ]
  },
  {
   "cell_type": "markdown",
   "id": "61373cb2",
   "metadata": {},
   "source": [
    "### Changing name as mention"
   ]
  },
  {
   "cell_type": "code",
   "execution_count": 373,
   "id": "322d5d92",
   "metadata": {},
   "outputs": [],
   "source": [
    "for ent in museums:\n",
    "    ent[\"mention\"] = ent[\"name\"]\n",
    "    del ent [\"name\"]"
   ]
  },
  {
   "cell_type": "code",
   "execution_count": 222,
   "id": "6ccb1204",
   "metadata": {},
   "outputs": [],
   "source": [
    "for ent in foods:\n",
    "    ent[\"mention\"] = ent[\"name\"]\n",
    "    del ent [\"name\"]"
   ]
  },
  {
   "cell_type": "markdown",
   "id": "8b3f133b",
   "metadata": {},
   "source": [
    "### Normalization of Features"
   ]
  },
  {
   "cell_type": "code",
   "execution_count": 377,
   "id": "acfa8c88",
   "metadata": {},
   "outputs": [],
   "source": [
    "def build_dikili_feature_map_prompt(data):\n",
    "    return f\"\"\"\n",
    "You are an expert data normalization assistant.\n",
    "\n",
    "Given a list of places and their features, your task is to generate a **normalization mapping dictionary** to standardize the following fields:\n",
    "- `what_to_do`\n",
    "- `best_for`\n",
    "- `special_features`\n",
    "- `tags`\n",
    "\n",
    "Instructions:\n",
    "1. Identify synonyms, spelling variations, plural/singular forms, or inconsistent phrasing.\n",
    "2. Create a dictionary for each field, where:\n",
    "   - Keys = raw values found in the data\n",
    "   - Values = their canonical, normalized form (lowercase, short, consistent)\n",
    "3. Return the output as **valid Python code**, with one dictionary per field.\n",
    "4. Do **not** wrap your output in markdown (no triple backticks or language markers).\n",
    "\n",
    "Here is the input data:\n",
    "\n",
    "{json.dumps(data, indent=2)}\n",
    "\n",
    "Return the mapping dictionary like this:\n",
    "\n",
    "{{\n",
    "  \"what_to_do\": {{\n",
    "    \"explore nearby islands\": \"explore\",\n",
    "    \"boat tours\": \"boat tour\",\n",
    "    \"swimming\": \"swim\"\n",
    "  }},\n",
    "  \"best_for\": {{\n",
    "    \"hotel guests\": \"guests\",\n",
    "    \"nature lovers\": \"nature lovers\"\n",
    "  }},\n",
    "  \"special_features\": {{\n",
    "    \"green nature\": \"nature\",\n",
    "    \"deep blue sea\": \"sea\"\n",
    "  }},\n",
    "  \"tags\": {{\n",
    "    \"swimming\": \"swim\",\n",
    "    \"family-friendly\": \"families\"\n",
    "  }}\n",
    "}}\n",
    "\"\"\"\n"
   ]
  },
  {
   "cell_type": "code",
   "execution_count": 381,
   "id": "e8ee2926",
   "metadata": {},
   "outputs": [],
   "source": [
    "all_data = dikili + beaches1 + beaches2"
   ]
  },
  {
   "cell_type": "code",
   "execution_count": 382,
   "id": "a25db23b",
   "metadata": {},
   "outputs": [],
   "source": [
    "prompt = build_dikili_feature_map_prompt(all_data)\n",
    "response = modelRequest(prompt, temperature=0.2)\n",
    "mapping_dict = stringjson2json(response)"
   ]
  },
  {
   "cell_type": "code",
   "execution_count": 408,
   "id": "da5c2a8e",
   "metadata": {},
   "outputs": [
    {
     "data": {
      "text/plain": [
       "{'what_to_do': {'explore': 'explore',\n",
       "  'relax': 'relax',\n",
       "  'swim': 'swim',\n",
       "  'sunbathe': 'sunbathe',\n",
       "  'watch sunset': 'watch sunset',\n",
       "  'camp': 'camp',\n",
       "  'enjoy cooler waters': 'enjoy cooler waters',\n",
       "  'hike': 'hike',\n",
       "  'dine': 'dine',\n",
       "  'experience local culture': 'experience local culture',\n",
       "  'photograph': 'photograph',\n",
       "  'learn about history': 'learn about history',\n",
       "  'enjoy thermal springs': 'enjoy thermal springs',\n",
       "  'snorkeling': 'snorkeling',\n",
       "  'windsurfing': 'windsurfing',\n",
       "  'rent a car': 'rent a car',\n",
       "  'stay in boutique hotels': 'stay in boutique hotels',\n",
       "  'explore traditional architecture': 'explore traditional architecture',\n",
       "  'visit vineyards': 'visit vineyards',\n",
       "  'visit wineries': 'visit wineries',\n",
       "  'enjoy family activities': 'enjoy family activities',\n",
       "  'explore historical sites': 'explore historical sites',\n",
       "  'enjoy nightlife': 'enjoy nightlife',\n",
       "  'explore slow cities': 'explore slow cities',\n",
       "  'learn about local culture': 'learn about local culture',\n",
       "  'watch': 'watch',\n",
       "  'participate': 'participate',\n",
       "  'taste': 'taste'},\n",
       " 'best_for': {'nature lovers': 'nature lovers',\n",
       "  'families': 'families',\n",
       "  'adventurers': 'adventurers',\n",
       "  'cultural tourists': 'cultural tourists',\n",
       "  'couples': 'couples',\n",
       "  'hotel guests': 'guests',\n",
       "  'beach lovers': 'beach lovers',\n",
       "  'history enthusiasts': 'history enthusiasts',\n",
       "  'food enthusiasts': 'food enthusiasts',\n",
       "  'water sports enthusiasts': 'water sports enthusiasts',\n",
       "  'budget-conscious travelers': 'budget travelers',\n",
       "  'peace seekers': 'peace seekers',\n",
       "  'off-the-beaten-path adventurers': 'adventurers',\n",
       "  'tranquility seekers': 'tranquility seekers',\n",
       "  'sports enthusiasts': 'sports enthusiasts',\n",
       "  'eco-conscious travellers': 'eco-conscious travelers',\n",
       "  'those seeking quiet retreats': 'quiet retreats',\n",
       "  'snorkeling enthusiasts': 'snorkeling enthusiasts',\n",
       "  'adventure seekers': 'adventure seekers',\n",
       "  'beachgoers': 'beachgoers',\n",
       "  'historic site enthusiasts': 'history enthusiasts'},\n",
       " 'special_features': {'green nature': 'nature',\n",
       "  'deep blue sea': 'sea',\n",
       "  'private access': 'private access',\n",
       "  'exclusive beach': 'exclusive beach',\n",
       "  'untouched nature': 'nature',\n",
       "  'calm sea': 'calm sea',\n",
       "  'white sand': 'sand',\n",
       "  'clear sea': 'clear sea',\n",
       "  'natural beauty': 'nature',\n",
       "  'no facilities': 'no facilities',\n",
       "  'summer holiday destination': 'holiday destination',\n",
       "  'beautiful beaches': 'beaches',\n",
       "  'historical monuments': 'historical',\n",
       "  'tranquil environment': 'tranquil',\n",
       "  'local atmosphere': 'local',\n",
       "  'scenic views': 'scenic',\n",
       "  'curved coastal inlet': 'coastal inlet',\n",
       "  'hidden paradise': 'paradise',\n",
       "  'notable bay': 'bay',\n",
       "  'scenic location': 'scenic',\n",
       "  'romantic sunset views': 'sunset views',\n",
       "  'family-friendly atmosphere': 'family-friendly',\n",
       "  'thermal springs': 'thermal springs',\n",
       "  'vibrant nightlife': 'nightlife',\n",
       "  'luxurious beach clubs': 'beach clubs',\n",
       "  'traditional architecture': 'architecture',\n",
       "  'picturesque surroundings': 'picturesque',\n",
       "  'unique rocky landscape': 'rocky landscape',\n",
       "  'crystal-clear waters': 'clear waters',\n",
       "  'lush greenery': 'greenery',\n",
       "  'dramatic landscapes': 'landscapes',\n",
       "  'secluded beaches': 'secluded',\n",
       "  'notable beach': 'beach',\n",
       "  'peaceful environment': 'peaceful',\n",
       "  'local favorite': 'local',\n",
       "  'famous cookies': 'cookies',\n",
       "  'traditional market experience': 'market experience',\n",
       "  '30 hectares': 'hectares',\n",
       "  'first cittaslow in turkey': 'cittaslow'},\n",
       " 'tags': {'nature': 'nature',\n",
       "  'town': 'town',\n",
       "  'beach': 'beach',\n",
       "  'landmark': 'landmark',\n",
       "  'boating': 'boating',\n",
       "  'historic': 'historic',\n",
       "  'scenic': 'scenic',\n",
       "  'family-friendly': 'families',\n",
       "  'holiday destination': 'holiday destination',\n",
       "  'cultural': 'cultural',\n",
       "  'historical': 'historical',\n",
       "  'vacation': 'vacation',\n",
       "  'local': 'local',\n",
       "  'exploration': 'exploration',\n",
       "  'archaeology': 'archaeology',\n",
       "  'ancient city': 'ancient city',\n",
       "  'cittaslow': 'cittaslow',\n",
       "  'food': 'food',\n",
       "  'culture': 'culture',\n",
       "  'relaxation': 'relaxation',\n",
       "  'hidden gem': 'hidden gem',\n",
       "  'secluded': 'secluded',\n",
       "  'tranquility': 'tranquility',\n",
       "  'water sports': 'water sports',\n",
       "  'windsurfing': 'windsurfing',\n",
       "  'kitesurfing': 'kitesurfing',\n",
       "  'snorkeling': 'snorkeling',\n",
       "  'family': 'families',\n",
       "  'historic site': 'historic site',\n",
       "  'village': 'village',\n",
       "  'rural': 'rural',\n",
       "  'adventure': 'adventure',\n",
       "  'holiday resort': 'holiday resort',\n",
       "  'urban': 'urban',\n",
       "  'province': 'province',\n",
       "  'major urban center': 'urban center',\n",
       "  'cultural heritage': 'cultural heritage',\n",
       "  'famous': 'famous',\n",
       "  'hidden': 'hidden',\n",
       "  'beachgoers': 'beachgoers',\n",
       "  'peaceful': 'peaceful',\n",
       "  'local culture': 'local culture',\n",
       "  'tranquil': 'tranquil',\n",
       "  'picturesque': 'picturesque',\n",
       "  'budget-friendly': 'budget-friendly',\n",
       "  'thermal springs': 'thermal springs'}}"
      ]
     },
     "execution_count": 408,
     "metadata": {},
     "output_type": "execute_result"
    }
   ],
   "source": [
    "mapping_dict"
   ]
  },
  {
   "cell_type": "code",
   "execution_count": 384,
   "id": "a6664f5d",
   "metadata": {},
   "outputs": [],
   "source": [
    "def normalize_features(entry, mapping_dict):\n",
    "    for field in [\"what_to_do\", \"best_for\", \"special_features\", \"tags\"]:\n",
    "        if field in entry:\n",
    "            entry[field] = sorted({\n",
    "                mapping_dict[field].get(val.lower().strip(), val.lower().strip())\n",
    "                for val in entry[field]\n",
    "            })"
   ]
  },
  {
   "cell_type": "code",
   "execution_count": 393,
   "id": "f420a80a",
   "metadata": {},
   "outputs": [],
   "source": [
    "for place in all_data:\n",
    "    normalize_features(place, mapping_dict)"
   ]
  },
  {
   "cell_type": "markdown",
   "id": "77fcaa2d",
   "metadata": {},
   "source": [
    "### Saving Json Files"
   ]
  },
  {
   "cell_type": "code",
   "execution_count": 394,
   "id": "0e95f558",
   "metadata": {},
   "outputs": [],
   "source": [
    "folder = \"normalized_data\""
   ]
  },
  {
   "cell_type": "code",
   "execution_count": 395,
   "id": "0004490d",
   "metadata": {},
   "outputs": [],
   "source": [
    "file_path=folder+\"/dikili.json\"\n",
    "with open(file_path, \"w\", encoding=\"utf-8\") as f:\n",
    "    json.dump(dikili, f, ensure_ascii=False, indent=4)"
   ]
  },
  {
   "cell_type": "code",
   "execution_count": 396,
   "id": "c54d3ae6",
   "metadata": {},
   "outputs": [],
   "source": [
    "file_path=folder+\"/beaches1.json\"\n",
    "with open(file_path, \"w\", encoding=\"utf-8\") as f:\n",
    "    json.dump(beaches1, f, ensure_ascii=False, indent=4)"
   ]
  },
  {
   "cell_type": "code",
   "execution_count": 397,
   "id": "be7f0192",
   "metadata": {},
   "outputs": [],
   "source": [
    "file_path=folder+\"/beaches2.json\"\n",
    "with open(file_path, \"w\", encoding=\"utf-8\") as f:\n",
    "    json.dump(beaches2, f, ensure_ascii=False, indent=4)"
   ]
  },
  {
   "cell_type": "code",
   "execution_count": 398,
   "id": "f1ccd650",
   "metadata": {},
   "outputs": [],
   "source": [
    "file_path=folder+\"/foods.json\"\n",
    "with open(file_path, \"w\", encoding=\"utf-8\") as f:\n",
    "    json.dump(foods, f, ensure_ascii=False, indent=4)"
   ]
  },
  {
   "cell_type": "code",
   "execution_count": 399,
   "id": "b0818c6b",
   "metadata": {},
   "outputs": [],
   "source": [
    "file_path=folder+\"/museums.json\"\n",
    "with open(file_path, \"w\", encoding=\"utf-8\") as f:\n",
    "    json.dump(museums, f, ensure_ascii=False, indent=4)"
   ]
  },
  {
   "cell_type": "code",
   "execution_count": 403,
   "id": "fb4e4963",
   "metadata": {},
   "outputs": [
    {
     "data": {
      "text/plain": [
       "dict_keys(['mention', 'node_type', 'what_to_do', 'best_for', 'special_features', 'tags', 'description', 'located_in', 'coordinates'])"
      ]
     },
     "execution_count": 403,
     "metadata": {},
     "output_type": "execute_result"
    }
   ],
   "source": [
    "dikili[0].keys()"
   ]
  },
  {
   "cell_type": "code",
   "execution_count": 404,
   "id": "b6b07d9d",
   "metadata": {},
   "outputs": [
    {
     "data": {
      "text/plain": [
       "dict_keys(['mention', 'node_type', 'what_to_do', 'best_for', 'special_features', 'tags', 'description', 'located_in', 'coordinates'])"
      ]
     },
     "execution_count": 404,
     "metadata": {},
     "output_type": "execute_result"
    }
   ],
   "source": [
    "beaches1[0].keys()"
   ]
  },
  {
   "cell_type": "code",
   "execution_count": 405,
   "id": "e1524f79",
   "metadata": {},
   "outputs": [
    {
     "data": {
      "text/plain": [
       "dict_keys(['mention', 'node_type', 'what_to_do', 'best_for', 'special_features', 'tags', 'description', 'located_in', 'coordinates'])"
      ]
     },
     "execution_count": 405,
     "metadata": {},
     "output_type": "execute_result"
    }
   ],
   "source": [
    "beaches2[0].keys()"
   ]
  },
  {
   "cell_type": "code",
   "execution_count": 406,
   "id": "48b3312d",
   "metadata": {},
   "outputs": [
    {
     "data": {
      "text/plain": [
       "dict_keys(['file', 'rating', 'description', 'museum_id', 'address', 'email', 'phone', 'opening_hours', 'facilities', 'images', 'coordinates', 'local_price', 'foreigner_price', 'node_type', 'what_to_do', 'best_for', 'special_features', 'tags', 'located_in', 'mention'])"
      ]
     },
     "execution_count": 406,
     "metadata": {},
     "output_type": "execute_result"
    }
   ],
   "source": [
    "museums[0].keys()"
   ]
  },
  {
   "cell_type": "code",
   "execution_count": 407,
   "id": "b4f6d3be",
   "metadata": {},
   "outputs": [
    {
     "data": {
      "text/plain": [
       "dict_keys(['type', 'ingredients', 'description', 'where_to_eat', 'coordinates', 'node_type', 'mention'])"
      ]
     },
     "execution_count": 407,
     "metadata": {},
     "output_type": "execute_result"
    }
   ],
   "source": [
    "foods[0].keys()"
   ]
  },
  {
   "cell_type": "code",
   "execution_count": null,
   "id": "5ee49ebb",
   "metadata": {},
   "outputs": [],
   "source": []
  },
  {
   "cell_type": "code",
   "execution_count": null,
   "id": "e82b0677",
   "metadata": {},
   "outputs": [],
   "source": []
  },
  {
   "cell_type": "code",
   "execution_count": null,
   "id": "9f969597",
   "metadata": {},
   "outputs": [],
   "source": []
  }
 ],
 "metadata": {
  "kernelspec": {
   "display_name": "Python 3 (ipykernel)",
   "language": "python",
   "name": "python3"
  },
  "language_info": {
   "codemirror_mode": {
    "name": "ipython",
    "version": 3
   },
   "file_extension": ".py",
   "mimetype": "text/x-python",
   "name": "python",
   "nbconvert_exporter": "python",
   "pygments_lexer": "ipython3",
   "version": "3.11.5"
  }
 },
 "nbformat": 4,
 "nbformat_minor": 5
}
